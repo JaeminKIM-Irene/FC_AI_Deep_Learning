{
  "nbformat": 4,
  "nbformat_minor": 0,
  "metadata": {
    "colab": {
      "provenance": [],
      "include_colab_link": true
    },
    "kernelspec": {
      "name": "python3",
      "display_name": "Python 3"
    },
    "language_info": {
      "name": "python"
    }
  },
  "cells": [
    {
      "cell_type": "markdown",
      "metadata": {
        "id": "view-in-github",
        "colab_type": "text"
      },
      "source": [
        "<a href=\"https://colab.research.google.com/github/JaeminKIM-Irene/FC_AI_Deep_Learning/blob/main/tutorial/%5BDeep_Learning%5DPytorch_2_0_Tutorial.ipynb\" target=\"_parent\"><img src=\"https://colab.research.google.com/assets/colab-badge.svg\" alt=\"Open In Colab\"/></a>"
      ]
    },
    {
      "cell_type": "markdown",
      "source": [
        "## Pytorch 2.0\n",
        "\n",
        "- 기존 버젼인 1.13보다 훨씬 더 Pythonic 해졌다.\n",
        "\n",
        "- torch.compile의 발전으로 timm이나 Huggingface를 사용할 때 성능향상이 커졌다.\n",
        "\n",
        "- GPU에서 병렬 연산 최적화를 통해서 큰 모델에서도 효율적으로 연산이 가능해졌다.\n",
        "\n",
        "\n",
        "Reference : https://pytorch.org/blog/pytorch-2.0-release/"
      ],
      "metadata": {
        "id": "T0-s6DgSdnMt"
      }
    },
    {
      "cell_type": "markdown",
      "source": [
        "### CIFAR10 Classification\n",
        "\n",
        "- pytorch 2.0을 이용하여, CIFAR10 이미지 분류 문제를 풀어봅니다.\n",
        "\n",
        "1. CIFAR10 데이터를 불러오고, 기본적인 전처리를 수행합니다.\n",
        "\n",
        "2. 학습을 수행할 모델을 정의합니다.\n",
        "\n",
        "3. 학습에 사용할 loss function과 optimizer를 정의합니다.\n",
        "\n",
        "4. 학습을 수행합니다.\n",
        "\n",
        "5. 학습한 모델로 예측을 수행합니다."
      ],
      "metadata": {
        "id": "zeLlmMKpfQDR"
      }
    },
    {
      "cell_type": "code",
      "source": [
        "!pip install torchinfo"
      ],
      "metadata": {
        "colab": {
          "base_uri": "https://localhost:8080/"
        },
        "id": "W_AOxTRh2WyK",
        "outputId": "7b7f899b-9f88-4569-f910-11b001ddbe77"
      },
      "execution_count": 1,
      "outputs": [
        {
          "output_type": "stream",
          "name": "stdout",
          "text": [
            "Collecting torchinfo\n",
            "  Downloading torchinfo-1.8.0-py3-none-any.whl (23 kB)\n",
            "Installing collected packages: torchinfo\n",
            "Successfully installed torchinfo-1.8.0\n"
          ]
        }
      ]
    },
    {
      "cell_type": "code",
      "execution_count": 2,
      "metadata": {
        "id": "oUNJ4cbjN90t"
      },
      "outputs": [],
      "source": [
        "import numpy as np\n",
        "import pandas as pd\n",
        "import matplotlib.pyplot as plt\n",
        "import seaborn as sns\n",
        "\n",
        "import random\n",
        "from time import time\n",
        "import os\n",
        "from tqdm.auto import tqdm\n",
        "\n",
        "# 파이토치 라이브러리와 필요한 모듈들을 불러옵니다.\n",
        "import torch\n",
        "import torchvision\n",
        "from torchinfo import summary"
      ]
    },
    {
      "cell_type": "code",
      "source": [
        "seed = 2023\n",
        "deterministic = True\n",
        "\n",
        "random.seed(seed)\n",
        "np.random.seed(seed)\n",
        "torch.manual_seed(seed)\n",
        "\n",
        "### GPU Related ###\n",
        "torch.cuda.manual_seed_all(seed)\n",
        "if deterministic:\n",
        "\ttorch.backends.cudnn.deterministic = True\n",
        "\ttorch.backends.cudnn.benchmark = False"
      ],
      "metadata": {
        "id": "VnG0wjBGzVyH"
      },
      "execution_count": 4,
      "outputs": []
    },
    {
      "cell_type": "code",
      "source": [
        "!nvidia-smi"
      ],
      "metadata": {
        "id": "WgsDznkHUbu2",
        "colab": {
          "base_uri": "https://localhost:8080/"
        },
        "outputId": "bdf72b7d-0790-49dd-984f-d519c3383132"
      },
      "execution_count": 5,
      "outputs": [
        {
          "output_type": "stream",
          "name": "stdout",
          "text": [
            "/bin/bash: line 1: nvidia-smi: command not found\n"
          ]
        }
      ]
    },
    {
      "cell_type": "code",
      "source": [
        "print(torch.__version__)\n",
        "print(torchvision.__version__)\n",
        "print(os.cpu_count())  # number of CPU cores"
      ],
      "metadata": {
        "id": "JUfmqJ6VecBY",
        "colab": {
          "base_uri": "https://localhost:8080/"
        },
        "outputId": "f74bab02-2833-4e9d-cb6a-39959646400d"
      },
      "execution_count": 6,
      "outputs": [
        {
          "output_type": "stream",
          "name": "stdout",
          "text": [
            "2.1.0+cu118\n",
            "0.16.0+cu118\n",
            "2\n"
          ]
        }
      ]
    },
    {
      "cell_type": "markdown",
      "source": [
        "### 1. 전처리 함수 정의하기"
      ],
      "metadata": {
        "id": "_v0QRUFthDTl"
      }
    },
    {
      "cell_type": "code",
      "source": [
        "# 이미지 전처리에 필요한 transformation 함수를 정의\n",
        "from torchvision.transforms import transforms\n",
        "\n",
        "# Pipeline\n",
        "transform = transforms.Compose([\n",
        "    transforms.ToTensor(),                      # np.array를 torch.FloatTensor로 변환 & [0, 255] --> [0.0, 1.0]\n",
        "    transforms.Normalize(mean=0.5, std=0.5),    # Standard Scaling [0.0, 1.0] - 0.5 --> [-0.5, +0.5] / 0.5 --> [-1.0, +1.0]\n",
        "    ])"
      ],
      "metadata": {
        "id": "QNFyqmOQeo-o"
      },
      "execution_count": 9,
      "outputs": []
    },
    {
      "cell_type": "code",
      "source": [
        "# torch에서 학습에 사용할 config variable들을 세팅합니다.\n",
        "num_workers = 2\n",
        "batch_size = 128\n",
        "learning_rate = 1e-3\n",
        "epochs = 5"
      ],
      "metadata": {
        "id": "0_BLdMbiiq0h"
      },
      "execution_count": 10,
      "outputs": []
    },
    {
      "cell_type": "code",
      "source": [
        "# Data Load (Dataset, DataLoader)\n",
        "trainset = torchvision.datasets.MNIST(root='./',\n",
        "                                      train=True,     # trainset을 가져옴 (60000장)\n",
        "                                      download=True,\n",
        "                                      transform=transform\n",
        "                                      )\n",
        "\n",
        "# iterator의 역할을 할 수 있음\n",
        "trainloader = torch.utils.data.DataLoader(dataset=trainset,\n",
        "                                          batch_size=batch_size,\n",
        "                                          shuffle=True,\n",
        "                                          num_workers=num_workers\n",
        "                                          )\n",
        "testset = torchvision.datasets.MNIST(root='./',\n",
        "                                     train=False,     # testset (10000장)\n",
        "                                     download=True,\n",
        "                                     transform=transform\n",
        "                                     )\n",
        "testloader = torch.utils.data.DataLoader(dataset=testset,\n",
        "                                         batch_size=batch_size,\n",
        "                                         shuffle=False,\n",
        "                                         num_workers=num_workers\n",
        "                                         )\n",
        "classes = (0, 1, 2, 3, 4, 5, 6, 7, 8, 9)"
      ],
      "metadata": {
        "id": "i5D87dtml2gi",
        "colab": {
          "base_uri": "https://localhost:8080/"
        },
        "outputId": "4366b371-4be5-4b05-a490-77b5973bbd0f"
      },
      "execution_count": 11,
      "outputs": [
        {
          "output_type": "stream",
          "name": "stdout",
          "text": [
            "Downloading http://yann.lecun.com/exdb/mnist/train-images-idx3-ubyte.gz\n",
            "Downloading http://yann.lecun.com/exdb/mnist/train-images-idx3-ubyte.gz to ./MNIST/raw/train-images-idx3-ubyte.gz\n"
          ]
        },
        {
          "output_type": "stream",
          "name": "stderr",
          "text": [
            "100%|██████████| 9912422/9912422 [00:00<00:00, 116772257.25it/s]\n"
          ]
        },
        {
          "output_type": "stream",
          "name": "stdout",
          "text": [
            "Extracting ./MNIST/raw/train-images-idx3-ubyte.gz to ./MNIST/raw\n",
            "\n",
            "Downloading http://yann.lecun.com/exdb/mnist/train-labels-idx1-ubyte.gz\n",
            "Downloading http://yann.lecun.com/exdb/mnist/train-labels-idx1-ubyte.gz to ./MNIST/raw/train-labels-idx1-ubyte.gz\n"
          ]
        },
        {
          "output_type": "stream",
          "name": "stderr",
          "text": [
            "100%|██████████| 28881/28881 [00:00<00:00, 7227235.48it/s]\n"
          ]
        },
        {
          "output_type": "stream",
          "name": "stdout",
          "text": [
            "Extracting ./MNIST/raw/train-labels-idx1-ubyte.gz to ./MNIST/raw\n",
            "\n",
            "Downloading http://yann.lecun.com/exdb/mnist/t10k-images-idx3-ubyte.gz\n",
            "Downloading http://yann.lecun.com/exdb/mnist/t10k-images-idx3-ubyte.gz to ./MNIST/raw/t10k-images-idx3-ubyte.gz\n"
          ]
        },
        {
          "output_type": "stream",
          "name": "stderr",
          "text": [
            "100%|██████████| 1648877/1648877 [00:00<00:00, 22963109.02it/s]\n"
          ]
        },
        {
          "output_type": "stream",
          "name": "stdout",
          "text": [
            "Extracting ./MNIST/raw/t10k-images-idx3-ubyte.gz to ./MNIST/raw\n",
            "\n",
            "Downloading http://yann.lecun.com/exdb/mnist/t10k-labels-idx1-ubyte.gz\n",
            "Downloading http://yann.lecun.com/exdb/mnist/t10k-labels-idx1-ubyte.gz to ./MNIST/raw/t10k-labels-idx1-ubyte.gz\n"
          ]
        },
        {
          "output_type": "stream",
          "name": "stderr",
          "text": [
            "100%|██████████| 4542/4542 [00:00<00:00, 4031004.82it/s]\n"
          ]
        },
        {
          "output_type": "stream",
          "name": "stdout",
          "text": [
            "Extracting ./MNIST/raw/t10k-labels-idx1-ubyte.gz to ./MNIST/raw\n",
            "\n"
          ]
        }
      ]
    },
    {
      "cell_type": "code",
      "source": [
        "# show images\n",
        "\n",
        "def imshow(img):\n",
        "    img = img/2 + 0.5  # unnormalize\n",
        "    npimg = img.numpy()\n",
        "    plt.imshow(np.transpose(npimg, (1, 2, 0)))\n",
        "    plt.show()\n",
        "\n",
        "# iterator를 이용해서 데이터를 불러오게 만듭니다. (batch processing을 위해서)\n",
        "dataiter = iter(trainloader)  # trainloader를 iterator로 선언.\n",
        "images, labels = next(dataiter) # next 함수는 iterator의 반복 수행함.\n",
        "\n",
        "imshow(torchvision.utils.make_grid(images))\n",
        "print(' '.join(f'{classes[labels[j]]}' for j in range(batch_size)))"
      ],
      "metadata": {
        "id": "YQS2dRksnGxr",
        "colab": {
          "base_uri": "https://localhost:8080/",
          "height": 472
        },
        "outputId": "b46bba0a-0250-4900-c8a6-53770aeba4b1"
      },
      "execution_count": 13,
      "outputs": [
        {
          "output_type": "display_data",
          "data": {
            "text/plain": [
              "<Figure size 640x480 with 1 Axes>"
            ],
            "image/png": "[encoded data removed]"
          },
          "metadata": {}
        },
        {
          "output_type": "stream",
          "name": "stdout",
          "text": [
            "8 9 0 7 7 7 6 4 1 7 4 1 7 6 2 9 1 5 0 8 6 1 3 0 5 0 5 7 0 4 1 4 6 3 0 1 1 1 7 8 0 1 9 4 2 7 1 4 1 7 7 5 8 1 4 6 3 2 1 1 2 8 5 7 1 5 4 2 7 7 3 8 0 0 2 6 0 7 1 2 9 9 3 5 9 5 8 7 2 3 2 8 2 7 5 9 7 4 0 1 5 7 6 8 2 7 3 4 1 9 6 9 1 4 7 6 2 0 1 0 2 1 9 8 4 6 6 4\n"
          ]
        }
      ]
    },
    {
      "cell_type": "code",
      "source": [
        "# shape을 확인합니다.\n",
        "print(images.shape, labels.shape)\n",
        "\n",
        "## torch.Tensor (batch_size, channel, H, W)   # (image) 4차원 tensor"
      ],
      "metadata": {
        "id": "FIwZb7SGw0b9",
        "colab": {
          "base_uri": "https://localhost:8080/"
        },
        "outputId": "191eca0b-9a0a-4145-fc3b-c707e57df587"
      },
      "execution_count": 14,
      "outputs": [
        {
          "output_type": "stream",
          "name": "stdout",
          "text": [
            "torch.Size([128, 1, 28, 28]) torch.Size([128])\n"
          ]
        }
      ]
    },
    {
      "cell_type": "markdown",
      "source": [
        "### 2. 학습 모델 정의\n",
        "\n",
        "\n",
        "- 이미지 분류에 주로 쓰이는 모델은 CNN입니다.\n",
        "\n",
        "\n",
        "- 처음에는 그냥 MLP(FCN)으로 구현을 하고, (나중에)Convolution 연산들을 추가해봅니다.\n",
        "\n",
        "\n",
        "**모델 아키텍쳐**\n",
        "\n",
        "- MLP : Input() -> Flatten() -> Linear() -> Linear() -> Linear()"
      ],
      "metadata": {
        "id": "itV8TTmXo7Jv"
      }
    },
    {
      "cell_type": "code",
      "source": [
        "import torch.nn as nn\n",
        "\n",
        "# 모델 구현에 필요한 레이어들을 정의합니다.\n",
        "class MLP(nn.Module):\n",
        "    def __init__(self):       # class constructor   ## model 정의 (define layers)\n",
        "        super().__init__()\n",
        "        # 3-layer NN (input, hidden1, hidden2)\n",
        "\n",
        "        # nn.Linear의 in_features는 input node 개수, out_features는 output node 개수    # 128, 256, 512 등\n",
        "        self.fc1 = nn.Linear(in_feature=28*28, out_features=512)      # input layer --> hidden_layer1\n",
        "        self.fc2 = nn.Linear(512, 128)                                # hidden_layer1 --> hidden_layer2\n",
        "        self.fc3 = nn.Linear(128, 10)                                 # hidden_layer2 --> output_layer\n",
        "        self.relu = nn.ReLU()               # activation layer\n",
        "        self.softmax = nn.Softmax(dim=1)    # output layer   # (batch_size, output_layer_size)   ## 각 vector별로 softmax 적용\n",
        "\n",
        "    def forward(self, x):\n",
        "        # feed-forward 연산을 구현합니다.\n",
        "\n",
        "        return x"
      ],
      "metadata": {
        "id": "sJK-g7qio1KD"
      },
      "execution_count": null,
      "outputs": []
    },
    {
      "cell_type": "code",
      "source": [
        "device = torch.device(\"cuda:0\" if torch.cuda.is_available() else \"cpu\")\n",
        "print(device)"
      ],
      "metadata": {
        "id": "OPCtD77zvMWY"
      },
      "execution_count": null,
      "outputs": []
    },
    {
      "cell_type": "code",
      "source": [
        "model =\n",
        "model"
      ],
      "metadata": {
        "id": "aOTUCFqZvO4z"
      },
      "execution_count": null,
      "outputs": []
    },
    {
      "cell_type": "code",
      "source": [
        "summary(model)"
      ],
      "metadata": {
        "id": "66WSnsqmm-LP"
      },
      "execution_count": null,
      "outputs": []
    },
    {
      "cell_type": "code",
      "source": [
        "# show params\n"
      ],
      "metadata": {
        "id": "-Bi1bydwgmdF"
      },
      "execution_count": null,
      "outputs": []
    },
    {
      "cell_type": "markdown",
      "source": [
        "### 3. Optimizer와 Loss function 정의\n",
        "\n",
        "\n",
        "- 학습에 가장 많이 사용하는 optimizer는 Adam입니다.\n",
        "\n",
        "\n",
        "- 가장 기본이 되는 SGD(Stochastic Gradient Descent)와 Adam을 구현해서 비교해봅시다.\n",
        "\n",
        "- multiclass classification에서 사용하는 loss function은 cross-entropy입니다."
      ],
      "metadata": {
        "id": "RAeA6l91xZZd"
      }
    },
    {
      "cell_type": "code",
      "source": [
        "# import optimizers\n",
        "optimizer =\n",
        "criterion ="
      ],
      "metadata": {
        "id": "n8mxBEjEvQOO"
      },
      "execution_count": null,
      "outputs": []
    },
    {
      "cell_type": "markdown",
      "source": [
        "### 4. 학습\n",
        "\n",
        "- pytorch에서는 학습을 위해서 train 함수와 test 함수를 직접 구현해야합니다.\n",
        "\n",
        "- 처음에는 직접 for문을 통해서 batch 단위 학습 코드를 구현해봅시다."
      ],
      "metadata": {
        "id": "3BXKr9bty8dU"
      }
    },
    {
      "cell_type": "code",
      "source": [
        "start = time()\n",
        "\n",
        "# for문을 이용하여 epoch마다 학습을 수행하는 코드를 작성합니다.\n",
        "# 데이터를 직접 로드해서, 직접 모델에 넣고, 직접 loss를 계산 (자동으로 loss update)\n",
        "## mini-batch training!!!\n",
        "\n",
        "\n",
        "end = time()\n",
        "\n",
        "print(\"Training Done.\")\n",
        "print(f\"Elasped Time : {end-start:.4f} secs.\")"
      ],
      "metadata": {
        "id": "av0_AB3EyEsG"
      },
      "execution_count": null,
      "outputs": []
    },
    {
      "cell_type": "markdown",
      "source": [
        "### 5. 학습한 모델로 예측\n",
        "\n",
        "- 학습한 model을 가지고 test data를 예측합니다.\n",
        "\n",
        "- 예측 성능을 높이는 것이 학습의 목표이기 때문에, 학습되는 상황과 비교하여 잘 나오는 것을 확인해야 합니다.\n",
        "\n",
        "\n",
        "- 예측도 직접 구현하여 확인할 수 있습니다."
      ],
      "metadata": {
        "id": "xm0uodDi3jj_"
      }
    },
    {
      "cell_type": "code",
      "source": [
        "dataiter = iter(testloader)\n",
        "images, labels = next(dataiter)\n",
        "images.shape, labels.shape"
      ],
      "metadata": {
        "id": "lYJ3RmN6zndo"
      },
      "execution_count": null,
      "outputs": []
    },
    {
      "cell_type": "code",
      "source": [
        "# 예측 연산은 출력된 결과값중에서 argmax를 찾는 방식으로 수행됩니다.\n",
        "outputs =\n",
        "#outputs.shape # 4장의 데이터에 대해서 10개 숫자.\n",
        "\n",
        "# or\n",
        "print(\"Predicted: \", ' '.join(f'{classes[predicted[j]]:5s}' for j in range(batch_size)))"
      ],
      "metadata": {
        "id": "dm3Emi7G43gq"
      },
      "execution_count": null,
      "outputs": []
    },
    {
      "cell_type": "code",
      "source": [
        "# make prediction for each class\n",
        "correct_pred = {classname: 0 for classname in classes}\n",
        "total_pred = {classname: 0 for classname in classes}\n",
        "\n",
        "# weight update를 하지 않는 모드\n",
        "\n",
        "\n",
        "\n",
        "for classname, correct_count in correct_pred.items():\n",
        "    accuracy = 100 * float(correct_count) / total_pred[classname]\n",
        "    print(f\"Accuracy for class: {classname:5s} is {accuracy:.1f} %\")"
      ],
      "metadata": {
        "id": "MEmb_c0-5052"
      },
      "execution_count": null,
      "outputs": []
    },
    {
      "cell_type": "code",
      "source": [
        "sum([class_[1] for class_ in correct_pred.items()]) / 10000 * 100"
      ],
      "metadata": {
        "id": "Xsbrmyy2222V"
      },
      "execution_count": null,
      "outputs": []
    },
    {
      "cell_type": "markdown",
      "source": [
        "### Go Further?\n",
        "\n",
        "- GPU를 켜서 수행해봅시다.\n",
        "\n",
        "\n",
        "- 사실 딥러닝을 할 때는 무조건 GPU를 사용합니다.\n",
        "\n",
        "\n",
        "- pytorch에서 GPU를 사용하기 위해서는 device를 정의한 후, device에 연산에 필요한 모델, 데이터를 보내는 것으로 자동으로 GPU acceleration이 일어나게 만듭니다.\n",
        "\n",
        "\n",
        "- **.to(device)** 로 해당 모델과 데이터를 GPU로 보낼 수 있습니다."
      ],
      "metadata": {
        "id": "2dZW-jLQ6rNf"
      }
    },
    {
      "cell_type": "code",
      "source": [
        "# cuda가 있다는건 nvidia GPU가 있는 session을 쓰고 있다는 뜻.\n"
      ],
      "metadata": {
        "id": "PfAf4rt26mC2"
      },
      "execution_count": null,
      "outputs": []
    },
    {
      "cell_type": "code",
      "source": [],
      "metadata": {
        "id": "Sroe93mjpVE9"
      },
      "execution_count": null,
      "outputs": []
    }
  ]
}