{
  "nbformat": 4,
  "nbformat_minor": 0,
  "metadata": {
    "colab": {
      "provenance": [],
      "gpuType": "T4",
      "include_colab_link": true
    },
    "kernelspec": {
      "name": "python3",
      "display_name": "Python 3"
    },
    "language_info": {
      "name": "python"
    },
    "accelerator": "GPU",
    "widgets": {
      "application/vnd.jupyter.widget-state+json": {
        "2bc93f051b504576b5905fbb6b2c4655": {
          "model_module": "@jupyter-widgets/controls",
          "model_name": "HBoxModel",
          "model_module_version": "1.5.0",
          "state": {
            "_dom_classes": [],
            "_model_module": "@jupyter-widgets/controls",
            "_model_module_version": "1.5.0",
            "_model_name": "HBoxModel",
            "_view_count": null,
            "_view_module": "@jupyter-widgets/controls",
            "_view_module_version": "1.5.0",
            "_view_name": "HBoxView",
            "box_style": "",
            "children": [
              "IPY_MODEL_0fac70fe08414feb957d76020860ccb8",
              "IPY_MODEL_d13d8c46191a4258b09a955c33b68e41",
              "IPY_MODEL_f75be25b468b41bebf82316e32dad064"
            ],
            "layout": "IPY_MODEL_3837d142b091447db51dec64c2f5e509"
          }
        },
        "0fac70fe08414feb957d76020860ccb8": {
          "model_module": "@jupyter-widgets/controls",
          "model_name": "HTMLModel",
          "model_module_version": "1.5.0",
          "state": {
            "_dom_classes": [],
            "_model_module": "@jupyter-widgets/controls",
            "_model_module_version": "1.5.0",
            "_model_name": "HTMLModel",
            "_view_count": null,
            "_view_module": "@jupyter-widgets/controls",
            "_view_module_version": "1.5.0",
            "_view_name": "HTMLView",
            "description": "",
            "description_tooltip": null,
            "layout": "IPY_MODEL_bd47651f75604511b9dc0621eb0557fb",
            "placeholder": "​",
            "style": "IPY_MODEL_34a8fbb51af848d68820981966385628",
            "value": "100%"
          }
        },
        "d13d8c46191a4258b09a955c33b68e41": {
          "model_module": "@jupyter-widgets/controls",
          "model_name": "FloatProgressModel",
          "model_module_version": "1.5.0",
          "state": {
            "_dom_classes": [],
            "_model_module": "@jupyter-widgets/controls",
            "_model_module_version": "1.5.0",
            "_model_name": "FloatProgressModel",
            "_view_count": null,
            "_view_module": "@jupyter-widgets/controls",
            "_view_module_version": "1.5.0",
            "_view_name": "ProgressView",
            "bar_style": "success",
            "description": "",
            "description_tooltip": null,
            "layout": "IPY_MODEL_60e4198fbda84501b5b8bcbbca2c09ed",
            "max": 15,
            "min": 0,
            "orientation": "horizontal",
            "style": "IPY_MODEL_ef44bfe9da134eb2983a69377ab84ab3",
            "value": 15
          }
        },
        "f75be25b468b41bebf82316e32dad064": {
          "model_module": "@jupyter-widgets/controls",
          "model_name": "HTMLModel",
          "model_module_version": "1.5.0",
          "state": {
            "_dom_classes": [],
            "_model_module": "@jupyter-widgets/controls",
            "_model_module_version": "1.5.0",
            "_model_name": "HTMLModel",
            "_view_count": null,
            "_view_module": "@jupyter-widgets/controls",
            "_view_module_version": "1.5.0",
            "_view_name": "HTMLView",
            "description": "",
            "description_tooltip": null,
            "layout": "IPY_MODEL_24f63811668a4786bd63ba8c284c2bfc",
            "placeholder": "​",
            "style": "IPY_MODEL_6f38c268fbd94b9795267a1134d47733",
            "value": " 15/15 [03:23&lt;00:00, 13.43s/it]"
          }
        },
        "3837d142b091447db51dec64c2f5e509": {
          "model_module": "@jupyter-widgets/base",
          "model_name": "LayoutModel",
          "model_module_version": "1.2.0",
          "state": {
            "_model_module": "@jupyter-widgets/base",
            "_model_module_version": "1.2.0",
            "_model_name": "LayoutModel",
            "_view_count": null,
            "_view_module": "@jupyter-widgets/base",
            "_view_module_version": "1.2.0",
            "_view_name": "LayoutView",
            "align_content": null,
            "align_items": null,
            "align_self": null,
            "border": null,
            "bottom": null,
            "display": null,
            "flex": null,
            "flex_flow": null,
            "grid_area": null,
            "grid_auto_columns": null,
            "grid_auto_flow": null,
            "grid_auto_rows": null,
            "grid_column": null,
            "grid_gap": null,
            "grid_row": null,
            "grid_template_areas": null,
            "grid_template_columns": null,
            "grid_template_rows": null,
            "height": null,
            "justify_content": null,
            "justify_items": null,
            "left": null,
            "margin": null,
            "max_height": null,
            "max_width": null,
            "min_height": null,
            "min_width": null,
            "object_fit": null,
            "object_position": null,
            "order": null,
            "overflow": null,
            "overflow_x": null,
            "overflow_y": null,
            "padding": null,
            "right": null,
            "top": null,
            "visibility": null,
            "width": null
          }
        },
        "bd47651f75604511b9dc0621eb0557fb": {
          "model_module": "@jupyter-widgets/base",
          "model_name": "LayoutModel",
          "model_module_version": "1.2.0",
          "state": {
            "_model_module": "@jupyter-widgets/base",
            "_model_module_version": "1.2.0",
            "_model_name": "LayoutModel",
            "_view_count": null,
            "_view_module": "@jupyter-widgets/base",
            "_view_module_version": "1.2.0",
            "_view_name": "LayoutView",
            "align_content": null,
            "align_items": null,
            "align_self": null,
            "border": null,
            "bottom": null,
            "display": null,
            "flex": null,
            "flex_flow": null,
            "grid_area": null,
            "grid_auto_columns": null,
            "grid_auto_flow": null,
            "grid_auto_rows": null,
            "grid_column": null,
            "grid_gap": null,
            "grid_row": null,
            "grid_template_areas": null,
            "grid_template_columns": null,
            "grid_template_rows": null,
            "height": null,
            "justify_content": null,
            "justify_items": null,
            "left": null,
            "margin": null,
            "max_height": null,
            "max_width": null,
            "min_height": null,
            "min_width": null,
            "object_fit": null,
            "object_position": null,
            "order": null,
            "overflow": null,
            "overflow_x": null,
            "overflow_y": null,
            "padding": null,
            "right": null,
            "top": null,
            "visibility": null,
            "width": null
          }
        },
        "34a8fbb51af848d68820981966385628": {
          "model_module": "@jupyter-widgets/controls",
          "model_name": "DescriptionStyleModel",
          "model_module_version": "1.5.0",
          "state": {
            "_model_module": "@jupyter-widgets/controls",
            "_model_module_version": "1.5.0",
            "_model_name": "DescriptionStyleModel",
            "_view_count": null,
            "_view_module": "@jupyter-widgets/base",
            "_view_module_version": "1.2.0",
            "_view_name": "StyleView",
            "description_width": ""
          }
        },
        "60e4198fbda84501b5b8bcbbca2c09ed": {
          "model_module": "@jupyter-widgets/base",
          "model_name": "LayoutModel",
          "model_module_version": "1.2.0",
          "state": {
            "_model_module": "@jupyter-widgets/base",
            "_model_module_version": "1.2.0",
            "_model_name": "LayoutModel",
            "_view_count": null,
            "_view_module": "@jupyter-widgets/base",
            "_view_module_version": "1.2.0",
            "_view_name": "LayoutView",
            "align_content": null,
            "align_items": null,
            "align_self": null,
            "border": null,
            "bottom": null,
            "display": null,
            "flex": null,
            "flex_flow": null,
            "grid_area": null,
            "grid_auto_columns": null,
            "grid_auto_flow": null,
            "grid_auto_rows": null,
            "grid_column": null,
            "grid_gap": null,
            "grid_row": null,
            "grid_template_areas": null,
            "grid_template_columns": null,
            "grid_template_rows": null,
            "height": null,
            "justify_content": null,
            "justify_items": null,
            "left": null,
            "margin": null,
            "max_height": null,
            "max_width": null,
            "min_height": null,
            "min_width": null,
            "object_fit": null,
            "object_position": null,
            "order": null,
            "overflow": null,
            "overflow_x": null,
            "overflow_y": null,
            "padding": null,
            "right": null,
            "top": null,
            "visibility": null,
            "width": null
          }
        },
        "ef44bfe9da134eb2983a69377ab84ab3": {
          "model_module": "@jupyter-widgets/controls",
          "model_name": "ProgressStyleModel",
          "model_module_version": "1.5.0",
          "state": {
            "_model_module": "@jupyter-widgets/controls",
            "_model_module_version": "1.5.0",
            "_model_name": "ProgressStyleModel",
            "_view_count": null,
            "_view_module": "@jupyter-widgets/base",
            "_view_module_version": "1.2.0",
            "_view_name": "StyleView",
            "bar_color": null,
            "description_width": ""
          }
        },
        "24f63811668a4786bd63ba8c284c2bfc": {
          "model_module": "@jupyter-widgets/base",
          "model_name": "LayoutModel",
          "model_module_version": "1.2.0",
          "state": {
            "_model_module": "@jupyter-widgets/base",
            "_model_module_version": "1.2.0",
            "_model_name": "LayoutModel",
            "_view_count": null,
            "_view_module": "@jupyter-widgets/base",
            "_view_module_version": "1.2.0",
            "_view_name": "LayoutView",
            "align_content": null,
            "align_items": null,
            "align_self": null,
            "border": null,
            "bottom": null,
            "display": null,
            "flex": null,
            "flex_flow": null,
            "grid_area": null,
            "grid_auto_columns": null,
            "grid_auto_flow": null,
            "grid_auto_rows": null,
            "grid_column": null,
            "grid_gap": null,
            "grid_row": null,
            "grid_template_areas": null,
            "grid_template_columns": null,
            "grid_template_rows": null,
            "height": null,
            "justify_content": null,
            "justify_items": null,
            "left": null,
            "margin": null,
            "max_height": null,
            "max_width": null,
            "min_height": null,
            "min_width": null,
            "object_fit": null,
            "object_position": null,
            "order": null,
            "overflow": null,
            "overflow_x": null,
            "overflow_y": null,
            "padding": null,
            "right": null,
            "top": null,
            "visibility": null,
            "width": null
          }
        },
        "6f38c268fbd94b9795267a1134d47733": {
          "model_module": "@jupyter-widgets/controls",
          "model_name": "DescriptionStyleModel",
          "model_module_version": "1.5.0",
          "state": {
            "_model_module": "@jupyter-widgets/controls",
            "_model_module_version": "1.5.0",
            "_model_name": "DescriptionStyleModel",
            "_view_count": null,
            "_view_module": "@jupyter-widgets/base",
            "_view_module_version": "1.2.0",
            "_view_name": "StyleView",
            "description_width": ""
          }
        },
        "a7f458d4b01f4c72b083be3b2c86d57b": {
          "model_module": "@jupyter-widgets/controls",
          "model_name": "HBoxModel",
          "model_module_version": "1.5.0",
          "state": {
            "_dom_classes": [],
            "_model_module": "@jupyter-widgets/controls",
            "_model_module_version": "1.5.0",
            "_model_name": "HBoxModel",
            "_view_count": null,
            "_view_module": "@jupyter-widgets/controls",
            "_view_module_version": "1.5.0",
            "_view_name": "HBoxView",
            "box_style": "",
            "children": [
              "IPY_MODEL_285f9e30249147f8813ac9d654ccd668",
              "IPY_MODEL_f75faa664ac3418a996f274313b18880",
              "IPY_MODEL_610a0d33ae1d433aaf3885e02b22ac20"
            ],
            "layout": "IPY_MODEL_7ec4def4ff004c7fb281fbb095b71f16"
          }
        },
        "285f9e30249147f8813ac9d654ccd668": {
          "model_module": "@jupyter-widgets/controls",
          "model_name": "HTMLModel",
          "model_module_version": "1.5.0",
          "state": {
            "_dom_classes": [],
            "_model_module": "@jupyter-widgets/controls",
            "_model_module_version": "1.5.0",
            "_model_name": "HTMLModel",
            "_view_count": null,
            "_view_module": "@jupyter-widgets/controls",
            "_view_module_version": "1.5.0",
            "_view_name": "HTMLView",
            "description": "",
            "description_tooltip": null,
            "layout": "IPY_MODEL_870df99247ed418e8a364669ad31cbfe",
            "placeholder": "​",
            "style": "IPY_MODEL_0907587830b448eba208b3bd01c4c5b4",
            "value": "100%"
          }
        },
        "f75faa664ac3418a996f274313b18880": {
          "model_module": "@jupyter-widgets/controls",
          "model_name": "FloatProgressModel",
          "model_module_version": "1.5.0",
          "state": {
            "_dom_classes": [],
            "_model_module": "@jupyter-widgets/controls",
            "_model_module_version": "1.5.0",
            "_model_name": "FloatProgressModel",
            "_view_count": null,
            "_view_module": "@jupyter-widgets/controls",
            "_view_module_version": "1.5.0",
            "_view_name": "ProgressView",
            "bar_style": "success",
            "description": "",
            "description_tooltip": null,
            "layout": "IPY_MODEL_6a8be660770f4008baaa579b818a3cda",
            "max": 15,
            "min": 0,
            "orientation": "horizontal",
            "style": "IPY_MODEL_7da8d965e73d447787a4739c32bbce18",
            "value": 15
          }
        },
        "610a0d33ae1d433aaf3885e02b22ac20": {
          "model_module": "@jupyter-widgets/controls",
          "model_name": "HTMLModel",
          "model_module_version": "1.5.0",
          "state": {
            "_dom_classes": [],
            "_model_module": "@jupyter-widgets/controls",
            "_model_module_version": "1.5.0",
            "_model_name": "HTMLModel",
            "_view_count": null,
            "_view_module": "@jupyter-widgets/controls",
            "_view_module_version": "1.5.0",
            "_view_name": "HTMLView",
            "description": "",
            "description_tooltip": null,
            "layout": "IPY_MODEL_553c94dc73114a9796f0c1cef762146a",
            "placeholder": "​",
            "style": "IPY_MODEL_285879c12f7b42b8bd699308214099fd",
            "value": " 15/15 [03:14&lt;00:00, 12.75s/it]"
          }
        },
        "7ec4def4ff004c7fb281fbb095b71f16": {
          "model_module": "@jupyter-widgets/base",
          "model_name": "LayoutModel",
          "model_module_version": "1.2.0",
          "state": {
            "_model_module": "@jupyter-widgets/base",
            "_model_module_version": "1.2.0",
            "_model_name": "LayoutModel",
            "_view_count": null,
            "_view_module": "@jupyter-widgets/base",
            "_view_module_version": "1.2.0",
            "_view_name": "LayoutView",
            "align_content": null,
            "align_items": null,
            "align_self": null,
            "border": null,
            "bottom": null,
            "display": null,
            "flex": null,
            "flex_flow": null,
            "grid_area": null,
            "grid_auto_columns": null,
            "grid_auto_flow": null,
            "grid_auto_rows": null,
            "grid_column": null,
            "grid_gap": null,
            "grid_row": null,
            "grid_template_areas": null,
            "grid_template_columns": null,
            "grid_template_rows": null,
            "height": null,
            "justify_content": null,
            "justify_items": null,
            "left": null,
            "margin": null,
            "max_height": null,
            "max_width": null,
            "min_height": null,
            "min_width": null,
            "object_fit": null,
            "object_position": null,
            "order": null,
            "overflow": null,
            "overflow_x": null,
            "overflow_y": null,
            "padding": null,
            "right": null,
            "top": null,
            "visibility": null,
            "width": null
          }
        },
        "870df99247ed418e8a364669ad31cbfe": {
          "model_module": "@jupyter-widgets/base",
          "model_name": "LayoutModel",
          "model_module_version": "1.2.0",
          "state": {
            "_model_module": "@jupyter-widgets/base",
            "_model_module_version": "1.2.0",
            "_model_name": "LayoutModel",
            "_view_count": null,
            "_view_module": "@jupyter-widgets/base",
            "_view_module_version": "1.2.0",
            "_view_name": "LayoutView",
            "align_content": null,
            "align_items": null,
            "align_self": null,
            "border": null,
            "bottom": null,
            "display": null,
            "flex": null,
            "flex_flow": null,
            "grid_area": null,
            "grid_auto_columns": null,
            "grid_auto_flow": null,
            "grid_auto_rows": null,
            "grid_column": null,
            "grid_gap": null,
            "grid_row": null,
            "grid_template_areas": null,
            "grid_template_columns": null,
            "grid_template_rows": null,
            "height": null,
            "justify_content": null,
            "justify_items": null,
            "left": null,
            "margin": null,
            "max_height": null,
            "max_width": null,
            "min_height": null,
            "min_width": null,
            "object_fit": null,
            "object_position": null,
            "order": null,
            "overflow": null,
            "overflow_x": null,
            "overflow_y": null,
            "padding": null,
            "right": null,
            "top": null,
            "visibility": null,
            "width": null
          }
        },
        "0907587830b448eba208b3bd01c4c5b4": {
          "model_module": "@jupyter-widgets/controls",
          "model_name": "DescriptionStyleModel",
          "model_module_version": "1.5.0",
          "state": {
            "_model_module": "@jupyter-widgets/controls",
            "_model_module_version": "1.5.0",
            "_model_name": "DescriptionStyleModel",
            "_view_count": null,
            "_view_module": "@jupyter-widgets/base",
            "_view_module_version": "1.2.0",
            "_view_name": "StyleView",
            "description_width": ""
          }
        },
        "6a8be660770f4008baaa579b818a3cda": {
          "model_module": "@jupyter-widgets/base",
          "model_name": "LayoutModel",
          "model_module_version": "1.2.0",
          "state": {
            "_model_module": "@jupyter-widgets/base",
            "_model_module_version": "1.2.0",
            "_model_name": "LayoutModel",
            "_view_count": null,
            "_view_module": "@jupyter-widgets/base",
            "_view_module_version": "1.2.0",
            "_view_name": "LayoutView",
            "align_content": null,
            "align_items": null,
            "align_self": null,
            "border": null,
            "bottom": null,
            "display": null,
            "flex": null,
            "flex_flow": null,
            "grid_area": null,
            "grid_auto_columns": null,
            "grid_auto_flow": null,
            "grid_auto_rows": null,
            "grid_column": null,
            "grid_gap": null,
            "grid_row": null,
            "grid_template_areas": null,
            "grid_template_columns": null,
            "grid_template_rows": null,
            "height": null,
            "justify_content": null,
            "justify_items": null,
            "left": null,
            "margin": null,
            "max_height": null,
            "max_width": null,
            "min_height": null,
            "min_width": null,
            "object_fit": null,
            "object_position": null,
            "order": null,
            "overflow": null,
            "overflow_x": null,
            "overflow_y": null,
            "padding": null,
            "right": null,
            "top": null,
            "visibility": null,
            "width": null
          }
        },
        "7da8d965e73d447787a4739c32bbce18": {
          "model_module": "@jupyter-widgets/controls",
          "model_name": "ProgressStyleModel",
          "model_module_version": "1.5.0",
          "state": {
            "_model_module": "@jupyter-widgets/controls",
            "_model_module_version": "1.5.0",
            "_model_name": "ProgressStyleModel",
            "_view_count": null,
            "_view_module": "@jupyter-widgets/base",
            "_view_module_version": "1.2.0",
            "_view_name": "StyleView",
            "bar_color": null,
            "description_width": ""
          }
        },
        "553c94dc73114a9796f0c1cef762146a": {
          "model_module": "@jupyter-widgets/base",
          "model_name": "LayoutModel",
          "model_module_version": "1.2.0",
          "state": {
            "_model_module": "@jupyter-widgets/base",
            "_model_module_version": "1.2.0",
            "_model_name": "LayoutModel",
            "_view_count": null,
            "_view_module": "@jupyter-widgets/base",
            "_view_module_version": "1.2.0",
            "_view_name": "LayoutView",
            "align_content": null,
            "align_items": null,
            "align_self": null,
            "border": null,
            "bottom": null,
            "display": null,
            "flex": null,
            "flex_flow": null,
            "grid_area": null,
            "grid_auto_columns": null,
            "grid_auto_flow": null,
            "grid_auto_rows": null,
            "grid_column": null,
            "grid_gap": null,
            "grid_row": null,
            "grid_template_areas": null,
            "grid_template_columns": null,
            "grid_template_rows": null,
            "height": null,
            "justify_content": null,
            "justify_items": null,
            "left": null,
            "margin": null,
            "max_height": null,
            "max_width": null,
            "min_height": null,
            "min_width": null,
            "object_fit": null,
            "object_position": null,
            "order": null,
            "overflow": null,
            "overflow_x": null,
            "overflow_y": null,
            "padding": null,
            "right": null,
            "top": null,
            "visibility": null,
            "width": null
          }
        },
        "285879c12f7b42b8bd699308214099fd": {
          "model_module": "@jupyter-widgets/controls",
          "model_name": "DescriptionStyleModel",
          "model_module_version": "1.5.0",
          "state": {
            "_model_module": "@jupyter-widgets/controls",
            "_model_module_version": "1.5.0",
            "_model_name": "DescriptionStyleModel",
            "_view_count": null,
            "_view_module": "@jupyter-widgets/base",
            "_view_module_version": "1.2.0",
            "_view_name": "StyleView",
            "description_width": ""
          }
        }
      }
    }
  },
  "cells": [
    {
      "cell_type": "markdown",
      "metadata": {
        "id": "view-in-github",
        "colab_type": "text"
      },
      "source": [
        "<a href=\"https://colab.research.google.com/github/JaeminKIM-Irene/FC_AI_Deep_Learning/blob/main/tutorial/%5BDeep_Learning%5DCNN_Tutorial.ipynb\" target=\"_parent\"><img src=\"https://colab.research.google.com/assets/colab-badge.svg\" alt=\"Open In Colab\"/></a>"
      ]
    },
    {
      "cell_type": "markdown",
      "source": [
        "## Pytorch 2.0\n",
        "\n",
        "- 기존 버젼인 1.13보다 훨씬 더 Pythonic 해졌다.\n",
        "\n",
        "- torch.compile의 발전으로 timm이나 Huggingface를 사용할 때 성능향상이 커졌다.\n",
        "\n",
        "- GPU에서 병렬 연산 최적화를 통해서 큰 모델에서도 효율적으로 연산이 가능해졌다.\n",
        "\n",
        "\n",
        "Reference : https://pytorch.org/blog/pytorch-2.0-release/"
      ],
      "metadata": {
        "id": "T0-s6DgSdnMt"
      }
    },
    {
      "cell_type": "markdown",
      "source": [
        "### CIFAR10 Classification\n",
        "\n",
        "- pytorch 2.0을 이용하여, CIFAR10 이미지 분류 문제를 풀어봅니다.\n",
        "\n",
        "1. CIFAR10 데이터를 불러오고, 기본적인 전처리를 수행합니다.\n",
        "\n",
        "2. 학습을 수행할 모델을 정의합니다.\n",
        "\n",
        "3. 학습에 사용할 loss function과 optimizer를 정의합니다.\n",
        "\n",
        "4. 학습을 수행합니다.\n",
        "\n",
        "5. 학습한 모델로 예측을 수행합니다."
      ],
      "metadata": {
        "id": "zeLlmMKpfQDR"
      }
    },
    {
      "cell_type": "code",
      "source": [
        "!pip install torchinfo"
      ],
      "metadata": {
        "colab": {
          "base_uri": "https://localhost:8080/"
        },
        "id": "W_AOxTRh2WyK",
        "outputId": "2ab17233-c7b5-45ca-cc31-1357a067a28c"
      },
      "execution_count": 1,
      "outputs": [
        {
          "output_type": "stream",
          "name": "stdout",
          "text": [
            "Requirement already satisfied: torchinfo in /usr/local/lib/python3.10/dist-packages (1.8.0)\n"
          ]
        }
      ]
    },
    {
      "cell_type": "code",
      "execution_count": 2,
      "metadata": {
        "id": "oUNJ4cbjN90t"
      },
      "outputs": [],
      "source": [
        "import numpy as np\n",
        "import pandas as pd\n",
        "import matplotlib.pyplot as plt\n",
        "import seaborn as sns\n",
        "\n",
        "import random\n",
        "from time import time\n",
        "import os\n",
        "from tqdm.auto import tqdm\n",
        "\n",
        "# 파이토치 라이브러리와 필요한 모듈들을 불러옵니다.\n",
        "import torch\n",
        "import torchvision\n",
        "from torchinfo import summary"
      ]
    },
    {
      "cell_type": "code",
      "source": [
        "seed = 2023\n",
        "deterministic = True\n",
        "\n",
        "random.seed(seed)\n",
        "np.random.seed(seed)\n",
        "torch.manual_seed(seed)\n",
        "\n",
        "### GPU Related ###\n",
        "torch.cuda.manual_seed_all(seed)\n",
        "if deterministic:\n",
        "\ttorch.backends.cudnn.deterministic = True\n",
        "\ttorch.backends.cudnn.benchmark = False"
      ],
      "metadata": {
        "id": "VnG0wjBGzVyH"
      },
      "execution_count": 3,
      "outputs": []
    },
    {
      "cell_type": "code",
      "source": [
        "!nvidia-smi"
      ],
      "metadata": {
        "id": "WgsDznkHUbu2",
        "colab": {
          "base_uri": "https://localhost:8080/"
        },
        "outputId": "0c1fc0bb-a0d9-45e5-b543-3b4420bf797b"
      },
      "execution_count": 4,
      "outputs": [
        {
          "output_type": "stream",
          "name": "stdout",
          "text": [
            "Thu Oct 26 03:34:07 2023       \n",
            "+-----------------------------------------------------------------------------+\n",
            "| NVIDIA-SMI 525.105.17   Driver Version: 525.105.17   CUDA Version: 12.0     |\n",
            "|-------------------------------+----------------------+----------------------+\n",
            "| GPU  Name        Persistence-M| Bus-Id        Disp.A | Volatile Uncorr. ECC |\n",
            "| Fan  Temp  Perf  Pwr:Usage/Cap|         Memory-Usage | GPU-Util  Compute M. |\n",
            "|                               |                      |               MIG M. |\n",
            "|===============================+======================+======================|\n",
            "|   0  Tesla T4            Off  | 00000000:00:04.0 Off |                    0 |\n",
            "| N/A   61C    P8    11W /  70W |      0MiB / 15360MiB |      0%      Default |\n",
            "|                               |                      |                  N/A |\n",
            "+-------------------------------+----------------------+----------------------+\n",
            "                                                                               \n",
            "+-----------------------------------------------------------------------------+\n",
            "| Processes:                                                                  |\n",
            "|  GPU   GI   CI        PID   Type   Process name                  GPU Memory |\n",
            "|        ID   ID                                                   Usage      |\n",
            "|=============================================================================|\n",
            "|  No running processes found                                                 |\n",
            "+-----------------------------------------------------------------------------+\n"
          ]
        }
      ]
    },
    {
      "cell_type": "code",
      "source": [
        "print(torch.__version__)\n",
        "print(torchvision.__version__)\n",
        "print(os.cpu_count())  # number of CPU cores"
      ],
      "metadata": {
        "id": "JUfmqJ6VecBY",
        "colab": {
          "base_uri": "https://localhost:8080/"
        },
        "outputId": "6c4f0938-9124-47e9-be23-928c28223770"
      },
      "execution_count": 5,
      "outputs": [
        {
          "output_type": "stream",
          "name": "stdout",
          "text": [
            "2.1.0+cu118\n",
            "0.16.0+cu118\n",
            "2\n"
          ]
        }
      ]
    },
    {
      "cell_type": "markdown",
      "source": [
        "### 1. 전처리 함수 정의하기"
      ],
      "metadata": {
        "id": "_v0QRUFthDTl"
      }
    },
    {
      "cell_type": "code",
      "source": [
        "# 이미지 전처리에 필요한 transformation 함수를 정의\n",
        "from torchvision.transforms import transforms\n",
        "\n",
        "# for CIFAR10 (RGB channel)\n",
        "transform = transforms.Compose([\n",
        "    transforms.ToTensor(),\n",
        "    transforms.Normalize(mean=(0.5, 0.5, 0.5),\n",
        "                         std=(0.5, 0.5, 0.5))             # channel 별로 값을 줘야 함\n",
        "])\n",
        "\n",
        "# for ImageNet (RGB channel)\n",
        "# transform = transforms.Compose([\n",
        "#     transforms.ToTensor(),\n",
        "#     transforms.Normalize(mean=(0.485, 0.456, 0.406),      # ImageNet 데이터의 RGB channel 별 mean, std\n",
        "#                          std=(0.229, 0.244, 0.255))\n",
        "# ])"
      ],
      "metadata": {
        "id": "QNFyqmOQeo-o"
      },
      "execution_count": 6,
      "outputs": []
    },
    {
      "cell_type": "code",
      "source": [
        "# torch에서 학습에 사용할 config variable들을 세팅합니다.\n",
        "num_workers = 2\n",
        "batch_size = 256\n",
        "learning_rate = 1e-3          # 1e-1 ~ 1e-6\n",
        "epochs = 15"
      ],
      "metadata": {
        "id": "0_BLdMbiiq0h"
      },
      "execution_count": 7,
      "outputs": []
    },
    {
      "cell_type": "code",
      "source": [
        "# Data Load (Dataset, DataLoader)\n",
        "trainset = torchvision.datasets.CIFAR10(root='./',\n",
        "                                        train=True,\n",
        "                                        download=True,\n",
        "                                        transform=transform)\n",
        "\n",
        "# iterator의 역할을 할 수 있음\n",
        "trainloader = torch.utils.data.DataLoader(dataset=trainset,\n",
        "                                          batch_size=batch_size,\n",
        "                                          shuffle=True,\n",
        "                                          num_workers=num_workers\n",
        "                                          )\n",
        "\n",
        "testset = torchvision.datasets.CIFAR10(root='./',\n",
        "                                       train=False,\n",
        "                                       download=True,\n",
        "                                       transform=transform)\n",
        "\n",
        "testloader = torch.utils.data.DataLoader(dataset=testset,\n",
        "                                         batch_size=batch_size,\n",
        "                                         shuffle=False,\n",
        "                                         num_workers=num_workers\n",
        "                                         )\n",
        "classes = ('airplane', 'automobile', 'bird', 'cat', 'deer', 'dog',\n",
        "           'frog', 'horse', 'ship', 'truck')"
      ],
      "metadata": {
        "id": "i5D87dtml2gi",
        "colab": {
          "base_uri": "https://localhost:8080/"
        },
        "outputId": "d897a587-1c68-41f1-adad-d26529e10245"
      },
      "execution_count": 8,
      "outputs": [
        {
          "output_type": "stream",
          "name": "stdout",
          "text": [
            "Files already downloaded and verified\n",
            "Files already downloaded and verified\n"
          ]
        }
      ]
    },
    {
      "cell_type": "code",
      "source": [
        "# # show images\n",
        "\n",
        "# def imshow(img):\n",
        "#     img = img/2 + 0.5  # unnormalize\n",
        "#     npimg = img.numpy()\n",
        "#     plt.imshow(np.transpose(npimg, (1, 2, 0)))\n",
        "#     plt.show()\n",
        "\n",
        "# # iterator를 이용해서 데이터를 불러오게 만듭니다. (batch processing을 위해서)\n",
        "# dataiter = iter(trainloader)  # trainloader를 iterator로 선언.\n",
        "# images, labels = next(dataiter) # next 함수는 iterator의 반복 수행함.\n",
        "\n",
        "# imshow(torchvision.utils.make_grid(images))\n",
        "# print(' '.join(f'{classes[labels[j]]}' for j in range(batch_size)))"
      ],
      "metadata": {
        "id": "YQS2dRksnGxr"
      },
      "execution_count": 9,
      "outputs": []
    },
    {
      "cell_type": "code",
      "source": [
        "# shape을 확인합니다.\n",
        "print(images.shape, labels.shape)\n",
        "\n",
        "## torch.Tensor (batch_size, channel, H, W)   # (image) 4차원 tensor"
      ],
      "metadata": {
        "id": "FIwZb7SGw0b9",
        "colab": {
          "base_uri": "https://localhost:8080/",
          "height": 228
        },
        "outputId": "0ba8ee52-9d4c-4312-ec80-060f947586f5"
      },
      "execution_count": 10,
      "outputs": [
        {
          "output_type": "error",
          "ename": "NameError",
          "evalue": "ignored",
          "traceback": [
            "\u001b[0;31m---------------------------------------------------------------------------\u001b[0m",
            "\u001b[0;31mNameError\u001b[0m                                 Traceback (most recent call last)",
            "\u001b[0;32m<ipython-input-10-0e2b6676546a>\u001b[0m in \u001b[0;36m<cell line: 2>\u001b[0;34m()\u001b[0m\n\u001b[1;32m      1\u001b[0m \u001b[0;31m# shape을 확인합니다.\u001b[0m\u001b[0;34m\u001b[0m\u001b[0;34m\u001b[0m\u001b[0m\n\u001b[0;32m----> 2\u001b[0;31m \u001b[0mprint\u001b[0m\u001b[0;34m(\u001b[0m\u001b[0mimages\u001b[0m\u001b[0;34m.\u001b[0m\u001b[0mshape\u001b[0m\u001b[0;34m,\u001b[0m \u001b[0mlabels\u001b[0m\u001b[0;34m.\u001b[0m\u001b[0mshape\u001b[0m\u001b[0;34m)\u001b[0m\u001b[0;34m\u001b[0m\u001b[0;34m\u001b[0m\u001b[0m\n\u001b[0m\u001b[1;32m      3\u001b[0m \u001b[0;34m\u001b[0m\u001b[0m\n\u001b[1;32m      4\u001b[0m \u001b[0;31m## torch.Tensor (batch_size, channel, H, W)   # (image) 4차원 tensor\u001b[0m\u001b[0;34m\u001b[0m\u001b[0;34m\u001b[0m\u001b[0m\n",
            "\u001b[0;31mNameError\u001b[0m: name 'images' is not defined"
          ]
        }
      ]
    },
    {
      "cell_type": "markdown",
      "source": [
        "### 2. 학습 모델 정의\n",
        "\n",
        "\n",
        "- 이미지 분류에 주로 쓰이는 모델은 CNN입니다.\n",
        "\n",
        "\n",
        "- 처음에는 그냥 MLP(FCN)으로 구현을 하고, (나중에)Convolution 연산들을 추가해봅니다.\n",
        "\n",
        "\n",
        "**모델 아키텍쳐**\n",
        "\n",
        "- MLP : Input() -> Flatten() -> Linear() -> Linear() -> Linear()"
      ],
      "metadata": {
        "id": "itV8TTmXo7Jv"
      }
    },
    {
      "cell_type": "code",
      "source": [
        "import torch.nn as nn\n",
        "\n",
        "# Conv -> ReLU -> Conv -> ReLU -> MaxPool -> fc1 -> fc2 -> fc3(output)        (model1)\n",
        "# Conv block(Conv-ReLU x 2) -> MaxPool -> Conv block -> MaxPool -> fc(output) (model2)\n",
        "class CNN(nn.Module) :\n",
        "    def __init__ (self) :\n",
        "        super().__init__()\n",
        "        self.conv1 = nn.Conv2d(in_channels=3,\n",
        "                               out_channels=6,          # num of filters\n",
        "                               kernel_size=3,           # 3x3\n",
        "                               stride=1,\n",
        "                               padding=0)               # (3, 32, 32) --> (6, 30, 30)\n",
        "        self.conv2 = nn.Conv2d(6, 12, 3)                # (6, 30, 30) --> (12, 28, 28)\n",
        "        self.maxpool = nn.MaxPool2d(kernel_size=2,\n",
        "                                    stride=2)           # (12, 28, 28) --> (12, 14, 14)\n",
        "        self.fc1 = nn.Linear(in_features=12*14*14,      # 2352\n",
        "                             out_features=1024)\n",
        "        self.fc2 = nn.Linear(1024, 128)\n",
        "        self.fc3 = nn.Linear(128, 10)\n",
        "        self.relu = nn.ReLU()\n",
        "        self.softmax = nn.Softmax(dim=1)\n",
        "\n",
        "    def forward(self, x) :\n",
        "        x = self.relu(self.conv1(x))\n",
        "        x = self.relu(self.conv2(x))\n",
        "        x = self.maxpool(x)\n",
        "        x = torch.flatten(x, 1)                 # (batch_size, 12, 14, 14) --> (batch_size, 12*14*14)\n",
        "        x = self.relu(self.fc1(x))\n",
        "        x = self.relu(self.fc2(x))\n",
        "        x = self.softmax(self.fc3(x))\n",
        "\n",
        "        return x"
      ],
      "metadata": {
        "cellView": "code",
        "id": "3uSnBJCjoICn"
      },
      "execution_count": 9,
      "outputs": []
    },
    {
      "cell_type": "code",
      "source": [
        "device = torch.device(\"cuda:0\" if torch.cuda.is_available() else \"cpu\")\n",
        "print(device)"
      ],
      "metadata": {
        "id": "OPCtD77zvMWY",
        "colab": {
          "base_uri": "https://localhost:8080/"
        },
        "outputId": "58724d30-fb53-4dce-adfd-655ea54c35dc"
      },
      "execution_count": 10,
      "outputs": [
        {
          "output_type": "stream",
          "name": "stdout",
          "text": [
            "cuda:0\n"
          ]
        }
      ]
    },
    {
      "cell_type": "code",
      "source": [
        "model =CNN().to(device)\n",
        "model"
      ],
      "metadata": {
        "id": "aOTUCFqZvO4z",
        "colab": {
          "base_uri": "https://localhost:8080/"
        },
        "outputId": "ecdbd038-eea6-4e4c-dded-2e95eec1a735"
      },
      "execution_count": 11,
      "outputs": [
        {
          "output_type": "execute_result",
          "data": {
            "text/plain": [
              "CNN(\n",
              "  (conv1): Conv2d(3, 6, kernel_size=(3, 3), stride=(1, 1))\n",
              "  (conv2): Conv2d(6, 12, kernel_size=(3, 3), stride=(1, 1))\n",
              "  (maxpool): MaxPool2d(kernel_size=2, stride=2, padding=0, dilation=1, ceil_mode=False)\n",
              "  (fc1): Linear(in_features=2352, out_features=1024, bias=True)\n",
              "  (fc2): Linear(in_features=1024, out_features=128, bias=True)\n",
              "  (fc3): Linear(in_features=128, out_features=10, bias=True)\n",
              "  (relu): ReLU()\n",
              "  (softmax): Softmax(dim=1)\n",
              ")"
            ]
          },
          "metadata": {},
          "execution_count": 11
        }
      ]
    },
    {
      "cell_type": "code",
      "source": [
        "(3*3*6+1)*12"
      ],
      "metadata": {
        "colab": {
          "base_uri": "https://localhost:8080/"
        },
        "id": "WTUmb0xE0Xnp",
        "outputId": "c6303964-3373-4523-d327-1906a2aaa28b"
      },
      "execution_count": 12,
      "outputs": [
        {
          "output_type": "execute_result",
          "data": {
            "text/plain": [
              "660"
            ]
          },
          "metadata": {},
          "execution_count": 12
        }
      ]
    },
    {
      "cell_type": "code",
      "source": [
        "summary(model)\n",
        "\n",
        "# conv1 : (3*3*3 +1)*6 = 162        # bias는 filter당 1개\n",
        "# conv2 : (3*3*6 +1)*12 = 660\n",
        "# fc1 : (12*14*14 + )*1024\n",
        "# maxpool : 0"
      ],
      "metadata": {
        "id": "66WSnsqmm-LP",
        "colab": {
          "base_uri": "https://localhost:8080/"
        },
        "outputId": "c26aee3f-71db-4fdb-a0cd-3016a7551532"
      },
      "execution_count": 13,
      "outputs": [
        {
          "output_type": "execute_result",
          "data": {
            "text/plain": [
              "=================================================================\n",
              "Layer (type:depth-idx)                   Param #\n",
              "=================================================================\n",
              "CNN                                      --\n",
              "├─Conv2d: 1-1                            168\n",
              "├─Conv2d: 1-2                            660\n",
              "├─MaxPool2d: 1-3                         --\n",
              "├─Linear: 1-4                            2,409,472\n",
              "├─Linear: 1-5                            131,200\n",
              "├─Linear: 1-6                            1,290\n",
              "├─ReLU: 1-7                              --\n",
              "├─Softmax: 1-8                           --\n",
              "=================================================================\n",
              "Total params: 2,542,790\n",
              "Trainable params: 2,542,790\n",
              "Non-trainable params: 0\n",
              "================================================================="
            ]
          },
          "metadata": {},
          "execution_count": 13
        }
      ]
    },
    {
      "cell_type": "code",
      "source": [
        "# show params\n",
        "for x in model.parameters() :\n",
        "  print(x.shape)"
      ],
      "metadata": {
        "id": "-Bi1bydwgmdF",
        "colab": {
          "base_uri": "https://localhost:8080/"
        },
        "outputId": "b7234c7d-fcd5-40d0-8bff-0a48e6978c32"
      },
      "execution_count": 14,
      "outputs": [
        {
          "output_type": "stream",
          "name": "stdout",
          "text": [
            "torch.Size([6, 3, 3, 3])\n",
            "torch.Size([6])\n",
            "torch.Size([12, 6, 3, 3])\n",
            "torch.Size([12])\n",
            "torch.Size([1024, 2352])\n",
            "torch.Size([1024])\n",
            "torch.Size([128, 1024])\n",
            "torch.Size([128])\n",
            "torch.Size([10, 128])\n",
            "torch.Size([10])\n"
          ]
        }
      ]
    },
    {
      "cell_type": "markdown",
      "source": [
        "### 3. Optimizer와 Loss function 정의\n",
        "\n",
        "\n",
        "- 학습에 가장 많이 사용하는 optimizer는 Adam입니다.\n",
        "\n",
        "\n",
        "- 가장 기본이 되는 SGD(Stochastic Gradient Descent)와 Adam을 구현해서 비교해봅시다.\n",
        "\n",
        "- multiclass classification에서 사용하는 loss function은 cross-entropy입니다."
      ],
      "metadata": {
        "id": "RAeA6l91xZZd"
      }
    },
    {
      "cell_type": "code",
      "source": [
        "# import optimizers\n",
        "import torch.optim as optim\n",
        "\n",
        "optimizer = optim.AdamW(params=model.parameters(), lr=learning_rate)\n",
        "criterion = nn.CrossEntropyLoss()"
      ],
      "metadata": {
        "id": "n8mxBEjEvQOO"
      },
      "execution_count": 15,
      "outputs": []
    },
    {
      "cell_type": "markdown",
      "source": [
        "### 4. 학습\n",
        "\n",
        "- pytorch에서는 학습을 위해서 train 함수와 test 함수를 직접 구현해야합니다.\n",
        "\n",
        "- 처음에는 직접 for문을 통해서 batch 단위 학습 코드를 구현해봅시다."
      ],
      "metadata": {
        "id": "3BXKr9bty8dU"
      }
    },
    {
      "cell_type": "code",
      "source": [
        "# !pip install graphviz torchview"
      ],
      "metadata": {
        "id": "z4Rt3NG-S1vz"
      },
      "execution_count": 18,
      "outputs": []
    },
    {
      "cell_type": "code",
      "source": [
        "# from torchview import draw_graph\n",
        "\n",
        "# # Dynamic Computational Graph (runtime) --> forward 함수가 실행 되어야만 그릴 수 있음 (최소 1 batch)\n",
        "# model_graph = draw_graph(model, input_size=(batch_size, 3,32,32))\n",
        "# model_graph.visual_graph"
      ],
      "metadata": {
        "id": "bgyyLAidS5lv"
      },
      "execution_count": 19,
      "outputs": []
    },
    {
      "cell_type": "code",
      "source": [
        "start = time()\n",
        "\n",
        "# for문을 이용하여 epoch마다 학습을 수행하는 코드를 작성합니다.\n",
        "# 1 epoch : 전체 데이터를 다 학습시킨 경우\n",
        "# 1 iteration : 1 weight update\n",
        "# 1 epoch = batch_size x iterations\n",
        "## 60000 = 600 x 100 --> weight update를 100번.\n",
        "## 60000 = 128 x 469 --> weight update를 469번.\n",
        "# total iterations = epochs(5) x iterations(469)\n",
        "\n",
        "\n",
        "# 데이터를 직접 로드해서, 직접 모델에 넣고, 직접 loss를 계산 (자동으로 loss update)\n",
        "## mini-batch training!!!!\n",
        "for epoch in tqdm(range(epochs)):\n",
        "    n_correct = 0\n",
        "    total_loss = 0.0\n",
        "    for idx, data in enumerate(trainloader):\n",
        "\n",
        "        optimizer.zero_grad()   # gradient 초기화.\n",
        "        ## ReLU() ---> max(0, x)\n",
        "        ## dReLU() --> if x < 0: 0, else: 1\n",
        "        ## d(wx)/dw --> x (local gradient)\n",
        "\n",
        "        #### feed forward ####\n",
        "        #images, labels = data[0], data[1]  # CPU version\n",
        "        images, labels = data[0].to(device), data[1].to(device)  # GPU version\n",
        "        outputs = model(images) # forward(x)\n",
        "        loss = criterion(outputs, labels) # compute loss (tensor)\n",
        "        #print(f\"Epoch {epoch} : {idx:4d} iteration -->\\t{loss.item():.4f}\") # loss value\n",
        "        n_correct = n_correct + (torch.max(model(images), dim=1)[1] == labels).sum() # batch당 맞은 개수.\n",
        "        total_loss += loss.item()\n",
        "\n",
        "        #### back propagation ####\n",
        "        loss.backward()  # loss를 가지고 backprop\n",
        "        optimizer.step() # SGD를 이용해서 weight update를 수행함.\n",
        "\n",
        "    print(f\"Epoch {epoch}, Train Accuracy : {n_correct/len(trainset):4f}\\\n",
        "                        | Train (average)Loss : {total_loss/len(trainloader):4f}\")\n",
        "\n",
        "end = time()\n",
        "\n",
        "print(\"Training Done.\")\n",
        "print(f\"Elasped Time : {end-start:.4f} secs.\")"
      ],
      "metadata": {
        "id": "av0_AB3EyEsG",
        "colab": {
          "base_uri": "https://localhost:8080/",
          "height": 344,
          "referenced_widgets": [
            "2bc93f051b504576b5905fbb6b2c4655",
            "0fac70fe08414feb957d76020860ccb8",
            "d13d8c46191a4258b09a955c33b68e41",
            "f75be25b468b41bebf82316e32dad064",
            "3837d142b091447db51dec64c2f5e509",
            "bd47651f75604511b9dc0621eb0557fb",
            "34a8fbb51af848d68820981966385628",
            "60e4198fbda84501b5b8bcbbca2c09ed",
            "ef44bfe9da134eb2983a69377ab84ab3",
            "24f63811668a4786bd63ba8c284c2bfc",
            "6f38c268fbd94b9795267a1134d47733"
          ]
        },
        "outputId": "b0c48803-4fe3-4a41-c9ef-40b91fc24523"
      },
      "execution_count": 20,
      "outputs": [
        {
          "output_type": "display_data",
          "data": {
            "text/plain": [
              "  0%|          | 0/15 [00:00<?, ?it/s]"
            ],
            "application/vnd.jupyter.widget-view+json": {
              "version_major": 2,
              "version_minor": 0,
              "model_id": "2bc93f051b504576b5905fbb6b2c4655"
            }
          },
          "metadata": {}
        },
        {
          "output_type": "stream",
          "name": "stdout",
          "text": [
            "Epoch 0, Train Accuracy : 0.292060                        | Train (average)Loss : 2.159124\n",
            "Epoch 1, Train Accuracy : 0.417700                        | Train (average)Loss : 2.039212\n",
            "Epoch 2, Train Accuracy : 0.467880                        | Train (average)Loss : 1.991779\n",
            "Epoch 3, Train Accuracy : 0.507400                        | Train (average)Loss : 1.952473\n",
            "Epoch 4, Train Accuracy : 0.558040                        | Train (average)Loss : 1.902543\n",
            "Epoch 5, Train Accuracy : 0.589360                        | Train (average)Loss : 1.872300\n",
            "Epoch 6, Train Accuracy : 0.619340                        | Train (average)Loss : 1.843701\n",
            "Epoch 7, Train Accuracy : 0.647320                        | Train (average)Loss : 1.816155\n",
            "Epoch 8, Train Accuracy : 0.671440                        | Train (average)Loss : 1.792752\n",
            "Epoch 9, Train Accuracy : 0.696160                        | Train (average)Loss : 1.768312\n",
            "Epoch 10, Train Accuracy : 0.716960                        | Train (average)Loss : 1.748154\n",
            "Epoch 11, Train Accuracy : 0.738820                        | Train (average)Loss : 1.726242\n",
            "Epoch 12, Train Accuracy : 0.760320                        | Train (average)Loss : 1.705250\n",
            "Epoch 13, Train Accuracy : 0.774920                        | Train (average)Loss : 1.690232\n",
            "Epoch 14, Train Accuracy : 0.793340                        | Train (average)Loss : 1.672002\n",
            "Training Done.\n",
            "Elasped Time : 203.8164 secs.\n"
          ]
        }
      ]
    },
    {
      "cell_type": "code",
      "source": [
        "start = time()\n",
        "\n",
        "# for문을 이용하여 epoch마다 학습을 수행하는 코드를 작성합니다.\n",
        "# 1 epoch : 전체 데이터를 다 학습시킨 경우\n",
        "# 1 iteration : 1 weight update\n",
        "# 1 epoch = batch_size x iterations\n",
        "## 60000 = 600 x 100 --> weight update를 100번.\n",
        "## 60000 = 128 x 469 --> weight update를 469번.\n",
        "# total iterations = epochs(5) x iterations(469)\n",
        "\n",
        "\n",
        "# 데이터를 직접 로드해서, 직접 모델에 넣고, 직접 loss를 계산 (자동으로 loss update)\n",
        "## mini-batch training!!!!\n",
        "for epoch in tqdm(range(epochs)):\n",
        "    n_correct = 0\n",
        "    total_loss = 0.0\n",
        "    for idx, data in enumerate(trainloader):\n",
        "\n",
        "        optimizer.zero_grad()   # gradient 초기화.\n",
        "        ## ReLU() ---> max(0, x)\n",
        "        ## dReLU() --> if x < 0: 0, else: 1\n",
        "        ## d(wx)/dw --> x (local gradient)\n",
        "\n",
        "        #### feed forward ####\n",
        "        #images, labels = data[0], data[1]  # CPU version\n",
        "        images, labels = data[0].to(device), data[1].to(device)  # GPU version\n",
        "        outputs = model(images) # forward(x)\n",
        "        loss = criterion(outputs, labels) # compute loss (tensor)\n",
        "        #print(f\"Epoch {epoch} : {idx:4d} iteration -->\\t{loss.item():.4f}\") # loss value\n",
        "        n_correct = n_correct + (torch.max(model(images), dim=1)[1] == labels).sum() # batch당 맞은 개수.\n",
        "        total_loss += loss.item()\n",
        "\n",
        "        #### back propagation ####\n",
        "        loss.backward()  # loss를 가지고 backprop\n",
        "        optimizer.step() # SGD를 이용해서 weight update를 수행함.\n",
        "\n",
        "    print(f\"Epoch {epoch}, Train Accuracy : {n_correct/len(trainset):4f}\\\n",
        "                        | Train (average)Loss : {total_loss/len(trainloader):4f}\")\n",
        "\n",
        "end = time()\n",
        "\n",
        "print(\"Training Done.\")\n",
        "print(f\"Elasped Time : {end-start:.4f} secs.\")"
      ],
      "metadata": {
        "colab": {
          "base_uri": "https://localhost:8080/",
          "height": 344,
          "referenced_widgets": [
            "a7f458d4b01f4c72b083be3b2c86d57b",
            "285f9e30249147f8813ac9d654ccd668",
            "f75faa664ac3418a996f274313b18880",
            "610a0d33ae1d433aaf3885e02b22ac20",
            "7ec4def4ff004c7fb281fbb095b71f16",
            "870df99247ed418e8a364669ad31cbfe",
            "0907587830b448eba208b3bd01c4c5b4",
            "6a8be660770f4008baaa579b818a3cda",
            "7da8d965e73d447787a4739c32bbce18",
            "553c94dc73114a9796f0c1cef762146a",
            "285879c12f7b42b8bd699308214099fd"
          ]
        },
        "id": "AvxLG7z1Bth7",
        "outputId": "8acb8668-6009-4083-ff93-b44f855056cc"
      },
      "execution_count": 16,
      "outputs": [
        {
          "output_type": "display_data",
          "data": {
            "text/plain": [
              "  0%|          | 0/15 [00:00<?, ?it/s]"
            ],
            "application/vnd.jupyter.widget-view+json": {
              "version_major": 2,
              "version_minor": 0,
              "model_id": "a7f458d4b01f4c72b083be3b2c86d57b"
            }
          },
          "metadata": {}
        },
        {
          "output_type": "stream",
          "name": "stdout",
          "text": [
            "Epoch 0, Train Accuracy : 0.281540                        | Train (average)Loss : 2.168448\n",
            "Epoch 1, Train Accuracy : 0.405660                        | Train (average)Loss : 2.053042\n",
            "Epoch 2, Train Accuracy : 0.450160                        | Train (average)Loss : 2.007942\n",
            "Epoch 3, Train Accuracy : 0.493720                        | Train (average)Loss : 1.966814\n",
            "Epoch 4, Train Accuracy : 0.525720                        | Train (average)Loss : 1.935312\n",
            "Epoch 5, Train Accuracy : 0.555480                        | Train (average)Loss : 1.906912\n",
            "Epoch 6, Train Accuracy : 0.578420                        | Train (average)Loss : 1.883987\n",
            "Epoch 7, Train Accuracy : 0.596120                        | Train (average)Loss : 1.866627\n",
            "Epoch 8, Train Accuracy : 0.616200                        | Train (average)Loss : 1.847135\n",
            "Epoch 9, Train Accuracy : 0.634060                        | Train (average)Loss : 1.830783\n",
            "Epoch 10, Train Accuracy : 0.654000                        | Train (average)Loss : 1.811429\n",
            "Epoch 11, Train Accuracy : 0.672700                        | Train (average)Loss : 1.793330\n",
            "Epoch 12, Train Accuracy : 0.687600                        | Train (average)Loss : 1.778057\n",
            "Epoch 13, Train Accuracy : 0.705500                        | Train (average)Loss : 1.760952\n",
            "Epoch 14, Train Accuracy : 0.722340                        | Train (average)Loss : 1.744529\n",
            "Training Done.\n",
            "Elasped Time : 194.6028 secs.\n"
          ]
        }
      ]
    },
    {
      "cell_type": "markdown",
      "source": [
        "### 5. 학습한 모델로 예측\n",
        "\n",
        "- 학습한 model을 가지고 test data를 예측합니다.\n",
        "\n",
        "- 예측 성능을 높이는 것이 학습의 목표이기 때문에, 학습되는 상황과 비교하여 잘 나오는 것을 확인해야 합니다.\n",
        "\n",
        "\n",
        "- 예측도 직접 구현하여 확인할 수 있습니다."
      ],
      "metadata": {
        "id": "xm0uodDi3jj_"
      }
    },
    {
      "cell_type": "code",
      "source": [
        "dataiter = iter(testloader)\n",
        "images, labels = next(dataiter)\n",
        "images.shape, labels.shape"
      ],
      "metadata": {
        "id": "lYJ3RmN6zndo"
      },
      "execution_count": null,
      "outputs": []
    },
    {
      "cell_type": "code",
      "source": [
        "# 예측 연산은 출력된 결과값중에서 argmax를 찾는 방식으로 수행됩니다.\n",
        "## NN에서 예측 연산은 학습이 완료된 모델에 feed-forward를 하면 됩니다.\n",
        "outputs = model(images)\n",
        "preds = torch.max(outputs, dim=1)[1]\n",
        "(preds == labels).sum() / batch_size\n",
        "#outputs.shape # 4장의 데이터에 대해서 10개 숫자.\n",
        "\n",
        "# or\n",
        "#print(\"Predicted: \", ' '.join(f'{classes[predicted[j]]:5s}' for j in range(batch_size)))"
      ],
      "metadata": {
        "id": "dm3Emi7G43gq"
      },
      "execution_count": null,
      "outputs": []
    },
    {
      "cell_type": "code",
      "source": [
        "# make prediction for each class\n",
        "correct_pred = {classname: 0 for classname in classes}\n",
        "total_pred = {classname: 0 for classname in classes}\n",
        "\n",
        "# weight update를 하지 않는 모드 (inference only)\n",
        "with torch.no_grad() :      # test time할 때, local gradient (feed-forward)를 따로 저장하지 않음 (속도, 메모리)\n",
        "  n_correct = 0\n",
        "  total_loss = 0.0\n",
        "  for idx, data in tqdm(enumerate(testloader)) :\n",
        "    images, labels = data[0].to(device), data[1].to(device)\n",
        "    outputs = model(images)\n",
        "    preds = torch.max(outputs, dim=1)[1]\n",
        "    n_correct += (preds == labels).sum()\n",
        "    loss = criterion(outputs, labels)\n",
        "    total_loss += loss.item()\n",
        "\n",
        "  print(f'Test Accuracy : {n_correct/len(testset):4f}\\tTest Loss : {total_loss/len(testloader):4f}')\n",
        "\n",
        "\n",
        "\n",
        "# for classname, correct_count in correct_pred.items():\n",
        "#     accuracy = 100 * float(correct_count) / total_pred[classname]\n",
        "#     print(f\"Accuracy for class: {classname:5s} is {accuracy:.1f} %\")"
      ],
      "metadata": {
        "id": "MEmb_c0-5052"
      },
      "execution_count": null,
      "outputs": []
    },
    {
      "cell_type": "code",
      "source": [
        "sum([class_[1] for class_ in correct_pred.items()]) / 10000 * 100"
      ],
      "metadata": {
        "id": "Xsbrmyy2222V"
      },
      "execution_count": null,
      "outputs": []
    },
    {
      "cell_type": "markdown",
      "source": [
        "### Go Further?\n",
        "\n",
        "- GPU를 켜서 수행해봅시다.\n",
        "\n",
        "\n",
        "- 사실 딥러닝을 할 때는 무조건 GPU를 사용합니다.\n",
        "\n",
        "\n",
        "- pytorch에서 GPU를 사용하기 위해서는 device를 정의한 후, device에 연산에 필요한 모델, 데이터를 보내는 것으로 자동으로 GPU acceleration이 일어나게 만듭니다.\n",
        "\n",
        "\n",
        "- **.to(device)** 로 해당 모델과 데이터를 GPU로 보낼 수 있습니다."
      ],
      "metadata": {
        "id": "2dZW-jLQ6rNf"
      }
    },
    {
      "cell_type": "code",
      "source": [
        "# cuda가 있다는건 nvidia GPU가 있는 session을 쓰고 있다는 뜻.\n",
        "!nvidia-smi"
      ],
      "metadata": {
        "id": "PfAf4rt26mC2"
      },
      "execution_count": null,
      "outputs": []
    },
    {
      "cell_type": "code",
      "source": [],
      "metadata": {
        "id": "Sroe93mjpVE9"
      },
      "execution_count": null,
      "outputs": []
    }
  ]
}